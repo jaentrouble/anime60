{
 "metadata": {
  "language_info": {
   "codemirror_mode": {
    "name": "ipython",
    "version": 3
   },
   "file_extension": ".py",
   "mimetype": "text/x-python",
   "name": "python",
   "nbconvert_exporter": "python",
   "pygments_lexer": "ipython3",
   "version": "3.8.6-final"
  },
  "orig_nbformat": 2,
  "kernelspec": {
   "name": "Python 3.8.6 64-bit ('env')",
   "display_name": "Python 3.8.6 64-bit ('env')",
   "metadata": {
    "interpreter": {
     "hash": "2b72526ed668422a4c42010915fcc77e6aba1ae6946ec448acf614b0bbb60243"
    }
   }
  }
 },
 "nbformat": 4,
 "nbformat_minor": 2,
 "cells": [
  {
   "cell_type": "code",
   "execution_count": 1,
   "metadata": {},
   "outputs": [],
   "source": [
    "import cv2\n",
    "import numpy as np\n",
    "import time\n",
    "from pathlib import Path"
   ]
  },
  {
   "cell_type": "code",
   "execution_count": 2,
   "metadata": {},
   "outputs": [],
   "source": [
    "raw_dir = Path('data/raw')\n",
    "cut_dir = Path('data/cut')\n",
    "name = 'ryza4k60_1'\n",
    "ext = '.mp4'"
   ]
  },
  {
   "cell_type": "code",
   "execution_count": 3,
   "metadata": {},
   "outputs": [
    {
     "output_type": "stream",
     "name": "stdout",
     "text": [
      "0 done\n",
      "1 done\n",
      "2 done\n",
      "3 done\n",
      "4 done\n",
      "5 done\n",
      "6 done\n",
      "7 done\n",
      "8 done\n",
      "9 done\n",
      "9935 frames took 258.72164845466614 seconds \n"
     ]
    }
   ],
   "source": [
    "start_time = time.time()\n",
    "n = 0\n",
    "N = 1000\n",
    "total_frames = 0\n",
    "idx = 0\n",
    "done = False\n",
    "fourcc = cv2.VideoWriter_fourcc(*'X264')\n",
    "cap = cv2.VideoCapture(str(raw_dir/(name+ext)))\n",
    "while(cap.isOpened()):\n",
    "    writer = cv2.VideoWriter(str(cut_dir/f'{name}_{idx}{ext}'),fourcc, 60, (3840,2160)) \n",
    "    for i in range(N):\n",
    "        if cap.isOpened():\n",
    "            ret, frame = cap.read()\n",
    "            if ret:\n",
    "                writer.write(frame)\n",
    "                total_frames += 1\n",
    "            else :\n",
    "                done = True\n",
    "                break\n",
    "        else :\n",
    "            done = True\n",
    "            break\n",
    "    writer.release()\n",
    "    print(f'{idx} done')\n",
    "    idx += 1\n",
    "    if done:\n",
    "        break\n",
    "\n",
    "cap.release()\n",
    "print(f'{total_frames} frames took {time.time()-start_time} seconds ')"
   ]
  },
  {
   "cell_type": "code",
   "execution_count": null,
   "metadata": {},
   "outputs": [],
   "source": []
  }
 ]
}