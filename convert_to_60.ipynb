{
 "metadata": {
  "language_info": {
   "codemirror_mode": {
    "name": "ipython",
    "version": 3
   },
   "file_extension": ".py",
   "mimetype": "text/x-python",
   "name": "python",
   "nbconvert_exporter": "python",
   "pygments_lexer": "ipython3",
   "version": "3.8.6-final"
  },
  "orig_nbformat": 2,
  "kernelspec": {
   "name": "python3",
   "display_name": "Python 3.8.6 64-bit ('env')",
   "metadata": {
    "interpreter": {
     "hash": "2b72526ed668422a4c42010915fcc77e6aba1ae6946ec448acf614b0bbb60243"
    }
   }
  }
 },
 "nbformat": 4,
 "nbformat_minor": 2,
 "cells": [
  {
   "cell_type": "code",
   "execution_count": null,
   "metadata": {},
   "outputs": [],
   "source": [
    "import tensorflow as tf\n",
    "from flow_models import *\n",
    "from model_trainer_half import AnimeModel\n",
    "from tensorflow.keras import mixed_precision\n",
    "import numpy as np\n",
    "from pathlib import Path\n",
    "import cv2\n",
    "from tools.stitch import *\n",
    "\n",
    "gpus = tf.config.experimental.list_physical_devices('GPU')\n",
    "if gpus:\n",
    "    try:\n",
    "        for gpu in gpus:\n",
    "            tf.config.experimental.set_memory_growth(gpu, True)\n",
    "    except RuntimeError as e:\n",
    "        print(e)\n",
    "policy = mixed_precision.Policy('mixed_float16')\n",
    "mixed_precision.set_global_policy(policy)"
   ]
  },
  {
   "cell_type": "code",
   "execution_count": null,
   "metadata": {},
   "outputs": [],
   "source": [
    "patch_size = (320,320)\n",
    "overlap = 60\n",
    "interp_ratio = [0.4,0.8]\n",
    "model_f = ehrb0_143_32\n",
    "weight_dir = 'savedmodels/ehrb0_500/66'"
   ]
  },
  {
   "cell_type": "code",
   "execution_count": null,
   "metadata": {},
   "outputs": [],
   "source": [
    "inputs = tf.keras.Input((patch_size[1],patch_size[0],6))\n",
    "anime_model = AnimeModel(inputs, model_f, interp_ratio)\n",
    "anime_model.load_weights(weight_dir)"
   ]
  },
  {
   "cell_type": "code",
   "execution_count": null,
   "metadata": {},
   "outputs": [],
   "source": [
    "vid_dir = Path('interp/to_convert')\n",
    "vid_paths = [str(vid_dir/vn) for vn in os.listdir(vid_dir)]"
   ]
  },
  {
   "cell_type": "code",
   "execution_count": null,
   "metadata": {},
   "outputs": [],
   "source": [
    "from tqdm.notebook import trange"
   ]
  },
  {
   "cell_type": "code",
   "execution_count": null,
   "metadata": {},
   "outputs": [],
   "source": [
    "cap = cv2.VideoCapture(vid_paths[0])\n",
    "fourcc = cv2.VideoWriter_fourcc(*'MP4V')\n",
    "writer = None\n",
    "ret, frame = cap.read()\n",
    "frame_size = (frame.shape[1],frame.shape[0])\n",
    "frame_size_hw = (frame_size[1],frame_size[0])\n",
    "writer = cv2.VideoWriter(f'{vid_paths[0]}_interp.mp4',fourcc,60,frame_size)\n",
    "for i in trange(1600):\n",
    "    if not cap.isOpened():\n",
    "        break\n",
    "    if ret:\n",
    "        frame0 = frame\n",
    "    else:\n",
    "        break\n",
    "        \n",
    "    \n",
    "    ret, frame = cap.read()\n",
    "    if ret:\n",
    "        frame1 = frame\n",
    "    else:\n",
    "        break\n",
    "\n",
    "    ret, frame = cap.read()\n",
    "    if ret:\n",
    "        frame2 = frame\n",
    "    else:\n",
    "        break\n",
    "\n",
    "    concated1 = np.concatenate([frame0,frame1],axis=-1).astype(np.float32)/ 255.0\n",
    "    concated2 = np.concatenate([frame2,frame1],axis=-1).astype(np.float32)/ 255.0\n",
    "    patches = frame_to_patch_on_batch(np.array([concated1,concated2]),patch_size,overlap)\n",
    "    outputs = anime_model.predict_on_batch(patches)\n",
    "    outputs = np.round(np.clip(outputs, 0, 1) * 255).astype(np.uint8)\n",
    "    interped = patch_to_frame_on_batch(outputs,frame_size_hw,overlap)\n",
    "    interped1, interped2 = interped[0][...,0:3], interped[0][...,3:6]\n",
    "    interped3, interped4 = interped[1][...,3:6], interped[1][...,0:3]\n",
    "    writer.write(frame0)\n",
    "    writer.write(interped1)\n",
    "    writer.write(interped2)\n",
    "    writer.write(interped3)\n",
    "    writer.write(interped4)\n",
    "\n",
    "\n",
    "cap.release()\n",
    "writer.release()"
   ]
  },
  {
   "cell_type": "code",
   "execution_count": null,
   "metadata": {},
   "outputs": [],
   "source": []
  }
 ]
}